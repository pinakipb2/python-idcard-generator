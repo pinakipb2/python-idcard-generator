{
 "cells": [
  {
   "cell_type": "code",
   "execution_count": 1,
   "metadata": {},
   "outputs": [],
   "source": [
    "import pandas as pd\n",
    "from PIL import Image, ImageDraw, ImageFont"
   ]
  },
  {
   "cell_type": "code",
   "execution_count": 2,
   "metadata": {},
   "outputs": [],
   "source": [
    "df = pd.read_csv('data.csv')"
   ]
  },
  {
   "cell_type": "code",
   "execution_count": 3,
   "metadata": {
    "scrolled": false
   },
   "outputs": [
    {
     "data": {
      "text/html": [
       "<div>\n",
       "<style scoped>\n",
       "    .dataframe tbody tr th:only-of-type {\n",
       "        vertical-align: middle;\n",
       "    }\n",
       "\n",
       "    .dataframe tbody tr th {\n",
       "        vertical-align: top;\n",
       "    }\n",
       "\n",
       "    .dataframe thead th {\n",
       "        text-align: right;\n",
       "    }\n",
       "</style>\n",
       "<table border=\"1\" class=\"dataframe\">\n",
       "  <thead>\n",
       "    <tr style=\"text-align: right;\">\n",
       "      <th></th>\n",
       "      <th>id</th>\n",
       "      <th>name</th>\n",
       "      <th>issued</th>\n",
       "      <th>expiry</th>\n",
       "      <th>dob</th>\n",
       "      <th>dept</th>\n",
       "    </tr>\n",
       "  </thead>\n",
       "  <tbody>\n",
       "    <tr>\n",
       "      <td>0</td>\n",
       "      <td>1</td>\n",
       "      <td>Harvey Watts</td>\n",
       "      <td>04/19/2015</td>\n",
       "      <td>12/03/2047</td>\n",
       "      <td>9/4/1959</td>\n",
       "      <td>IT</td>\n",
       "    </tr>\n",
       "    <tr>\n",
       "      <td>1</td>\n",
       "      <td>2</td>\n",
       "      <td>Bertha Barnes</td>\n",
       "      <td>08/20/2020</td>\n",
       "      <td>09/14/2056</td>\n",
       "      <td>1/20/2000</td>\n",
       "      <td>CSE</td>\n",
       "    </tr>\n",
       "    <tr>\n",
       "      <td>2</td>\n",
       "      <td>3</td>\n",
       "      <td>Alan Sandoval</td>\n",
       "      <td>06/19/2016</td>\n",
       "      <td>01/13/2027</td>\n",
       "      <td>09/22/1970</td>\n",
       "      <td>CIVIL</td>\n",
       "    </tr>\n",
       "    <tr>\n",
       "      <td>3</td>\n",
       "      <td>4</td>\n",
       "      <td>John Bowen</td>\n",
       "      <td>08/19/2018</td>\n",
       "      <td>10/26/2039</td>\n",
       "      <td>09/23/1900</td>\n",
       "      <td>MECHANICAL</td>\n",
       "    </tr>\n",
       "    <tr>\n",
       "      <td>4</td>\n",
       "      <td>5</td>\n",
       "      <td>Ronnie Lawrence</td>\n",
       "      <td>12/06/2007</td>\n",
       "      <td>02/13/2042</td>\n",
       "      <td>11/06/1981</td>\n",
       "      <td>IT</td>\n",
       "    </tr>\n",
       "    <tr>\n",
       "      <td>5</td>\n",
       "      <td>6</td>\n",
       "      <td>Ricardo Edwards</td>\n",
       "      <td>12/25/2008</td>\n",
       "      <td>09/30/2048</td>\n",
       "      <td>05/18/1998</td>\n",
       "      <td>CSSE</td>\n",
       "    </tr>\n",
       "    <tr>\n",
       "      <td>6</td>\n",
       "      <td>7</td>\n",
       "      <td>Elizabeth Hunt</td>\n",
       "      <td>01/20/2001</td>\n",
       "      <td>11/14/2064</td>\n",
       "      <td>04/23/1955</td>\n",
       "      <td>CSE</td>\n",
       "    </tr>\n",
       "    <tr>\n",
       "      <td>7</td>\n",
       "      <td>8</td>\n",
       "      <td>Tommy Lambert</td>\n",
       "      <td>04/20/2004</td>\n",
       "      <td>01/27/2059</td>\n",
       "      <td>12/21/1969</td>\n",
       "      <td>MECHANICAL</td>\n",
       "    </tr>\n",
       "    <tr>\n",
       "      <td>8</td>\n",
       "      <td>9</td>\n",
       "      <td>James Richards</td>\n",
       "      <td>03/11/2006</td>\n",
       "      <td>02/06/2051</td>\n",
       "      <td>03/24/1968</td>\n",
       "      <td>CSE</td>\n",
       "    </tr>\n",
       "    <tr>\n",
       "      <td>9</td>\n",
       "      <td>10</td>\n",
       "      <td>Kenneth Logan</td>\n",
       "      <td>01/01/2011</td>\n",
       "      <td>05/18/2053</td>\n",
       "      <td>05/06/1983</td>\n",
       "      <td>CSSE</td>\n",
       "    </tr>\n",
       "  </tbody>\n",
       "</table>\n",
       "</div>"
      ],
      "text/plain": [
       "   id             name      issued      expiry         dob        dept\n",
       "0   1     Harvey Watts  04/19/2015  12/03/2047    9/4/1959          IT\n",
       "1   2    Bertha Barnes  08/20/2020  09/14/2056   1/20/2000         CSE\n",
       "2   3    Alan Sandoval  06/19/2016  01/13/2027  09/22/1970       CIVIL\n",
       "3   4       John Bowen  08/19/2018  10/26/2039  09/23/1900  MECHANICAL\n",
       "4   5  Ronnie Lawrence  12/06/2007  02/13/2042  11/06/1981          IT\n",
       "5   6  Ricardo Edwards  12/25/2008  09/30/2048  05/18/1998        CSSE\n",
       "6   7   Elizabeth Hunt  01/20/2001  11/14/2064  04/23/1955         CSE\n",
       "7   8    Tommy Lambert  04/20/2004  01/27/2059  12/21/1969  MECHANICAL\n",
       "8   9   James Richards  03/11/2006  02/06/2051  03/24/1968         CSE\n",
       "9  10    Kenneth Logan  01/01/2011  05/18/2053  05/06/1983        CSSE"
      ]
     },
     "execution_count": 3,
     "metadata": {},
     "output_type": "execute_result"
    }
   ],
   "source": [
    "df"
   ]
  },
  {
   "cell_type": "code",
   "execution_count": 4,
   "metadata": {},
   "outputs": [],
   "source": [
    "records = df.to_dict(orient='record')"
   ]
  },
  {
   "cell_type": "code",
   "execution_count": 5,
   "metadata": {},
   "outputs": [],
   "source": [
    "font = ImageFont.truetype(\"Roboto-Black.ttf\", size=40)\n",
    "font2 = ImageFont.truetype(\"Roboto-Black.ttf\", size=23)"
   ]
  },
  {
   "cell_type": "code",
   "execution_count": 6,
   "metadata": {},
   "outputs": [],
   "source": [
    "def generate_card(data):\n",
    "    template = Image.open('id.jpg')\n",
    "    pic = Image.open(f\"photos/{data['id']}.jpg\").resize((242,242), Image.ANTIALIAS)\n",
    "    template.paste(pic,(194,247,436,489))\n",
    "    draw = ImageDraw.Draw(template)\n",
    "    draw.text((175, 519), data['name'], font=font)\n",
    "    draw.text((262, 665), data['issued'], font=font2, fill='black')\n",
    "    draw.text((262, 738), data['expiry'], font=font2, fill='black')\n",
    "    draw.text((262, 813), data['dob'], font=font2, fill='black')\n",
    "    draw.text((262, 888), data['dept'], font=font2, fill='black')\n",
    "    return template"
   ]
  },
  {
   "cell_type": "code",
   "execution_count": 7,
   "metadata": {},
   "outputs": [],
   "source": [
    "for record in records:\n",
    "    card = generate_card(record)\n",
    "    card.save(f\"cards/{record['id']}.jpg\")"
   ]
  }
 ],
 "metadata": {
  "kernelspec": {
   "display_name": "Python 3",
   "language": "python",
   "name": "python3"
  },
  "language_info": {
   "codemirror_mode": {
    "name": "ipython",
    "version": 3
   },
   "file_extension": ".py",
   "mimetype": "text/x-python",
   "name": "python",
   "nbconvert_exporter": "python",
   "pygments_lexer": "ipython3",
   "version": "3.7.4"
  }
 },
 "nbformat": 4,
 "nbformat_minor": 2
}
